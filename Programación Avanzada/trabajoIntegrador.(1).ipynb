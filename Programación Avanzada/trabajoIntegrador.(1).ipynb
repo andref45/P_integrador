﻿{
  "metadata": {
    "name": "trabajoIntegrador",
    "kernelspec": {
      "language": "scala",
      "name": "spark2-scala"
    },
    "language_info": {
      "codemirror_mode": "text/x-scala",
      "file_extension": ".scala",
      "mimetype": "text/x-scala",
      "name": "scala",
      "pygments_lexer": "scala"
    }
  },
  "nbformat": 4,
  "nbformat_minor": 2,
  "cells": [
    {
      "cell_type": "markdown",
      "metadata": {},
      "source": "# Cargar los datos \n**Se cargara el csv que vamos a utilizar**"
    },
    {
      "cell_type": "code",
      "execution_count": 1,
      "metadata": {
        "autoscroll": "auto"
      },
      "outputs": [],
      "source": "val data \u003d spark\n    .read\n    .option(\"inferSchema\", \"true\")\n    .option(\"header\", \"true\")\n    .option(\"delimiter\",\";\")\n    .csv(\"/home/zeppelin/Descargas/enemdu_vivienda_hogar_2023_I_trimestre.csv\")"
    },
    {
      "cell_type": "markdown",
      "metadata": {},
      "source": "Visualizacion de las columnas con las que vamos a trabajar."
    },
    {
      "cell_type": "code",
      "execution_count": 3,
      "metadata": {
        "autoscroll": "auto"
      },
      "outputs": [],
      "source": "data.printSchema\n\n"
    },
    {
      "cell_type": "markdown",
      "metadata": {},
      "source": "Consulta de el numero de columnas que tenemos"
    },
    {
      "cell_type": "code",
      "execution_count": 5,
      "metadata": {
        "autoscroll": "auto"
      },
      "outputs": [],
      "source": "data.columns.length\n"
    },
    {
      "cell_type": "markdown",
      "metadata": {},
      "source": "Un conteo del numero de datos que disponemos"
    },
    {
      "cell_type": "code",
      "execution_count": 7,
      "metadata": {
        "autoscroll": "auto"
      },
      "outputs": [],
      "source": "data.count\n"
    },
    {
      "cell_type": "markdown",
      "metadata": {},
      "source": "# Renombramiento\n\nRenombraremos todas las columnas con nombres que nos faciliten su comprension y su utilizacion."
    },
    {
      "cell_type": "code",
      "execution_count": 9,
      "metadata": {
        "autoscroll": "auto"
      },
      "outputs": [],
      "source": "val myDataSchemaDDL \u003d \"area INT, ciudad INT, conglomerado INT, panelm INT, vivienda INT, hogar INT, viaAccesoVivienda INT, tipoVivienda INT, materialTecho INT, estadoTecho INT,materialPiso INT, estadoPiso INT, materialParedes INT, estadoParedes INT, cuartosDisponiblesHogar INT, cuartosParaDormir INT, cuartosParaNegocios INT, cuartodeCosina INT,hogarCosinaCon INT,tipoServicioHigienico INT,noTieneServicioHigienico STRING,instalacionSanitariaUtiliza STRING,obtieneAguaHogar INT,medidordeAgua STRING,juntadeAgua STRING,aguaResiveVivienda INT, serviciodeDucha INT, tipoAlumbrado INT, eliminacionBasura INT, ocupaciondeVivienda INT, valorAlquiler INT, arriendoIncluyePagoAgua STRING,arriendoIncluyePagoLuz STRING, parentescoPropietarioVivienda STRING, tieneVehiculos INT, cuantosVehiculos STRING, tieneMotos INT, cuantasMotos STRING, utilizaCombustibleSuper STRING,gastosCombustibleSuper INT, utilizaCombustibleExtra STRING, gastosCombustibleExtra INT, utilizaCombustibleDiesel STRING, gastosCombustibleDiesel INT, utilizaCombustibleEcopais STRING,gastosCombustibleEcopais INT, utilizaElectricidad STRING, gastosElectricidad INT, utilizaGas STRING, gastosGas STRING, estrato INT, fexp INT, upm LONG, id_Vivienda LONG,id_Hogar DECIMAL, periodo INT, mes INT\""
    },
    {
      "cell_type": "markdown",
      "metadata": {},
      "source": "# Recargar la data\nVolveremos a cargar la data csv pero esta vez con el schema en el que hemos cambiado los nombres de las columnas para facilitar la comprension"
    },
    {
      "cell_type": "code",
      "execution_count": 11,
      "metadata": {
        "autoscroll": "auto"
      },
      "outputs": [],
      "source": "val data \u003d spark\n    .read\n    .schema(myDataSchemaDDL)\n    .option(\"inferSchema\", \"true\")\n    .option(\"header\", \"true\")\n    .option(\"delimiter\",\";\")\n    .csv(\"/home/zeppelin/Descargas/enemdu_vivienda_hogar_2023_I_trimestre.csv\")"
    },
    {
      "cell_type": "markdown",
      "metadata": {},
      "source": "Volvemos a visualizar las columnas pero esta vez podemos observar que el nombre de las columnas han cambiado al que hemos definido anteriormente"
    },
    {
      "cell_type": "code",
      "execution_count": 13,
      "metadata": {
        "autoscroll": "auto"
      },
      "outputs": [],
      "source": "data.printSchema\n"
    },
    {
      "cell_type": "markdown",
      "metadata": {},
      "source": "# Renombramiento de los datos que estan dentro de las Columnas\n\n**Se cambiaran los nombres de las variables utilizadas en cada columna de los datos cualitativos utilizando When para ayudarnos**"
    },
    {
      "cell_type": "markdown",
      "metadata": {},
      "source": "# Eliminacion de Columnas\n**Eliminaremos algunas columnas que no vamos a utilizar**"
    },
    {
      "cell_type": "code",
      "execution_count": 16,
      "metadata": {
        "autoscroll": "auto"
      },
      "outputs": [],
      "source": "val data1 \u003d data.drop(\"estrato\")\n    .drop(\"conglomerado\")\n    .drop(\"panelm\")\n    .drop(\"vivienda\")\n    .drop(\"hogar\")\n    .drop(\"upm\")\n    .drop(\"id_Vivienda\")\n    .drop(\"id_Hogar\")\n    .drop(\"periodo\")\n    data1.schema\n"
    },
    {
      "cell_type": "code",
      "execution_count": 17,
      "metadata": {
        "autoscroll": "auto"
      },
      "outputs": [],
      "source": "data1.printSchema"
    },
    {
      "cell_type": "markdown",
      "metadata": {},
      "source": "# Verificacion de Valores"
    },
    {
      "cell_type": "markdown",
      "metadata": {},
      "source": "**Valores cualitativos**\n"
    },
    {
      "cell_type": "markdown",
      "metadata": {},
      "source": "**la columna tipo vivienda no consta con el dato (7 - otros,Cual?) ya que no consta con ningun voto por eso no sale en el conteo de datos, en el resto no hay anormalidades**\n"
    },
    {
      "cell_type": "code",
      "execution_count": 21,
      "metadata": {
        "autoscroll": "auto"
      },
      "outputs": [],
      "source": "data1.select(\"area\")\r\n.distinct()\r\n.sort(\"area\")\r\n.show(false)\r\n\r\ndata1.select(\"viaAccesoVivienda\")\r\n.distinct()\r\n.sort(\"viaAccesoVivienda\")\r\n.show(false)\r\n\r\ndata1.select(\"tipoVivienda\")\r\n.distinct()\r\n.sort(\"tipoVivienda\")\r\n.show(false)\r\n\r\ndata1.select(\"materialTecho\")\r\n.distinct()\r\n.sort(\"materialTecho\")\r\n.show(false)\r\n\r\ndata1.select(\"estadoTecho\")\r\n.distinct()\r\n.sort(\"estadoTecho\")\r\n.show(false)\r\n\r\ndata1.select(\"materialPiso\")\r\n.distinct()\r\n.sort(\"materialPiso\")\r\n.show(false)\r\n\r\ndata1.select(\"estadoPiso\")\r\n.distinct()\r\n.sort(\"estadoPiso\")\r\n.show(false)\r\n\r\ndata1.select(\"materialParedes\")\r\n.distinct()\r\n.sort(\"materialParedes\")\r\n.show(false)\r\n\r\ndata1.select(\"estadoParedes\")\r\n.distinct()\r\n.sort(\"estadoParedes\")\r\n.show(false)\r\n\r\ndata1.select(\"cuartodeCosina\")\r\n.distinct()\r\n.sort(\"cuartodeCosina\")\r\n.show(false)\r\n\r\ndata1.select(\"hogarCosinaCon\")\r\n.distinct()\r\n.sort(\"hogarCosinaCon\")\r\n.show(false)\r\n\r\ndata1.select(\"tipoServicioHigienico\")\r\n.distinct()\r\n.sort(\"tipoServicioHigienico\")\r\n.show(false)\r\n\r\ndata1.select(\"noTieneServicioHigienico\")\r\n.where($\"noTieneServicioHigienico\" \u003d!\u003d \" \")\r\n.distinct()\r\n.sort(\"noTieneServicioHigienico\")\r\n.show(false)\r\n\r\ndata1.select(\"instalacionSanitariaUtiliza\")\r\n.where($\"instalacionSanitariaUtiliza\" \u003d!\u003d \" \")\r\n.distinct()\r\n.sort(\"instalacionSanitariaUtiliza\")\r\n.show(false)\r\n\r\ndata1.select(\"obtieneAguaHogar\")\r\n.distinct()\r\n.sort(\"obtieneAguaHogar\")\r\n.show(false)\r\n\r\ndata1.select(\"medidordeAgua\")\r\n.where($\"medidordeAgua\" \u003d!\u003d \" \")\r\n.distinct()\r\n.sort(\"medidordeAgua\")\r\n.show(false)\r\n\r\ndata1.select(\"juntadeAgua\")\r\n.where($\"juntadeAgua\" \u003d!\u003d \" \")\r\n.distinct()\r\n.sort(\"juntadeAgua\")\r\n.show(false)\r\n\r\ndata1.select(\"aguaResiveVivienda\")\r\n.distinct()\r\n.sort(\"aguaResiveVivienda\")\r\n.show(false)\r\n\r\ndata1.select(\"serviciodeDucha\")\r\n.distinct()\r\n.sort(\"serviciodeDucha\")\r\n.show(false)\r\n\r\ndata1.select(\"tipoAlumbrado\")\r\n.distinct()\r\n.sort(\"tipoAlumbrado\")\r\n.show(false)\r\n\r\ndata1.select(\"eliminacionBasura\")\r\n.distinct()\r\n.sort(\"eliminacionBasura\")\r\n.show(false)\r\n\r\ndata1.select(\"ocupaciondeVivienda\")\r\n.distinct()\r\n.sort(\"ocupaciondeVivienda\")\r\n.show(false)\r\n\r\ndata1.select(\"arriendoIncluyePagoAgua\")\r\n.where($\"arriendoIncluyePagoAgua\" \u003d!\u003d \" \")\r\n.distinct()\r\n.sort(\"arriendoIncluyePagoAgua\")\r\n.show(false)\r\n\r\ndata1.select(\"arriendoIncluyePagoLuz\")\r\n.where($\"arriendoIncluyePagoLuz\" \u003d!\u003d \" \")\r\n.distinct()\r\n.sort(\"arriendoIncluyePagoLuz\")\r\n.show(false)\r\n\r\ndata1.select(\"parentescoPropietarioVivienda\")\r\n.where($\"parentescoPropietarioVivienda\" \u003d!\u003d \" \")\r\n.distinct()\r\n.sort(\"parentescoPropietarioVivienda\")\r\n.show(false)\r\n\r\ndata1.select(\"tieneVehiculos\")\r\n.distinct()\r\n.sort(\"tieneVehiculos\")\r\n.show(false)\r\n\r\ndata1.select(\"tieneMotos\")\r\n.distinct()\r\n.sort(\"tieneMotos\")\r\n.show(false)\r\n\r\ndata1.select(\"utilizaCombustibleSuper\")\r\n.where($\"utilizaCombustibleSuper\" \u003d!\u003d \" \")\r\n.distinct()\r\n.sort(\"utilizaCombustibleSuper\")\r\n.show(false)\r\n\r\ndata1.select(\"utilizaCombustibleExtra\")\r\n.where($\"utilizaCombustibleExtra\" \u003d!\u003d \" \")\r\n.distinct()\r\n.sort(\"utilizaCombustibleExtra\")\r\n.show(false)\r\n\r\ndata1.select(\"utilizaCombustibleDiesel\")\r\n.where($\"utilizaCombustibleDiesel\" \u003d!\u003d \" \")\r\n.distinct()\r\n.sort(\"utilizaCombustibleDiesel\")\r\n.show(false)\r\n\r\ndata1.select(\"utilizaCombustibleEcopais\")\r\n.where($\"utilizaCombustibleEcopais\" \u003d!\u003d \" \")\r\n.distinct()\r\n.sort(\"utilizaCombustibleEcopais\")\r\n.show(false)\r\n\r\ndata1.select(\"utilizaElectricidad\")\r\n.where($\"utilizaElectricidad\" \u003d!\u003d \" \")\r\n.distinct()\r\n.sort(\"utilizaElectricidad\")\r\n.show(false)\r\n\r\ndata1.select(\"utilizaGas\")\r\n.where($\"utilizaGas\" \u003d!\u003d \" \")\r\n.distinct()\r\n.sort(\"utilizaGas\")\r\n.show(false)\r\n\r\ndata1.select(\"mes\")\r\n.distinct()\r\n.sort(\"mes\")\r\n.show(false)"
    },
    {
      "cell_type": "markdown",
      "metadata": {},
      "source": "**Valores Cuantitativos**"
    },
    {
      "cell_type": "code",
      "execution_count": 23,
      "metadata": {
        "autoscroll": "auto"
      },
      "outputs": [],
      "source": "data.select(\"ciudad\",\"conglomerado\",\"panelm\",\"vivienda\",\"hogar\")\n.summary(\"count\",\"min\",\"max\")\n.show"
    },
    {
      "cell_type": "code",
      "execution_count": 24,
      "metadata": {
        "autoscroll": "auto"
      },
      "outputs": [],
      "source": "data.select(\"cuartosDisponiblesHogar\",\"cuartosParaDormir\",\"cuartosParaNegocios\",\"valorAlquiler\")\n.summary(\"count\",\"min\",\"max\")\n.show()"
    },
    {
      "cell_type": "code",
      "execution_count": 25,
      "metadata": {
        "autoscroll": "auto"
      },
      "outputs": [],
      "source": "data1.select(\"cuantosVehiculos\")\n.where($\"cuantosVehiculos\" \u003d!\u003d \" \")\n.summary(\"count\",\"min\",\"max\")\n.show()\n\ndata1.select(\"cuantasMotos\")\n.where($\"cuantasMotos\" \u003d!\u003d \" \")\n.summary(\"count\",\"min\",\"max\")\n.show()\n\ndata1.select(\"gastosCombustibleSuper\")\n.summary(\"count\",\"min\",\"max\")\n.show()\n\ndata1.select(\"gastosCombustibleExtra\")\n.summary(\"count\",\"min\",\"max\")\n.show()\n\ndata1.select(\"gastosCombustibleEcopais\")\n.summary(\"count\",\"min\",\"max\")\n.show()\n\ndata1.select(\"gastosElectricidad\")\n\n.summary(\"count\",\"min\",\"max\")\n.show()\n\ndata1.select(\"gastosGas\")\n.where($\"gastosGas\" \u003d!\u003d \" \")\n.summary(\"count\",\"min\",\"max\")\n.show()\n"
    },
    {
      "cell_type": "markdown",
      "metadata": {},
      "source": "# Comprobacion de los datos utilizados \n\n**Comprobaremos la cantidad de datos que hay en cada una de las columnas cualitativas**\n\nEn estas columnas : \n\n- ($\"noTieneServicioHigienico\" \u003d!\u003d \" \")\n- ($\"instalacionSanitariaUtiliza\" \u003d!\u003d \" \")\n- ($\"medidordeAgua\" \u003d!\u003d \" \")\n- ($\"juntadeAgua\" \u003d!\u003d \" \")\n- ($\"arriendoIncluyePagoAgua\" \u003d!\u003d \" \")\n- ($\"arriendoIncluyePagoLuz\" \u003d!\u003d \" \")\n- ($\"parentescoPropietarioVivienda\" \u003d!\u003d \" \")\n- ($\"utilizaCombustibleSuper\" \u003d!\u003d \" \")\n- ($\"utilizaCombustibleExtra\" \u003d!\u003d \" \")\n- ($\"utilizaCombustibleDiesel\" \u003d!\u003d \" \")\n- ($\"utilizaCombustibleEcopais\" \u003d!\u003d \" \")\n- ($\"utilizaElectricidad\" \u003d!\u003d \" \")\n- ($\"utilizaGas\" \u003d!\u003d \" \")\n\npodemos encontrar datos en blanco por 2 razones la primera puede ser por que no han respondido los encuentados y la otra es porque al responder ciertas preguntas saltan directamente a la siguiente o a una pregunta en especifico."
    },
    {
      "cell_type": "code",
      "execution_count": 27,
      "metadata": {
        "autoscroll": "auto"
      },
      "outputs": [],
      "source": "data1.select(\"area\")\r\n.groupBy(\"area\").count()\r\n.sort(\"area\")\r\n.show(false)\r\n\r\ndata1.select(\"viaAccesoVivienda\")\r\n.groupBy(\"viaAccesoVivienda\").count()\r\n.sort(\"viaAccesoVivienda\")\r\n.show(false)\r\n\r\ndata1.select(\"tipoVivienda\")\r\n.groupBy(\"tipoVivienda\").count()\r\n.sort(\"tipoVivienda\")\r\n.show(false)\r\n\r\ndata1.select(\"materialTecho\")\r\n.groupBy(\"materialTecho\").count()\r\n.sort(\"materialTecho\")\r\n.show(false)\r\n\r\ndata1.select(\"estadoTecho\")\r\n.groupBy(\"estadoTecho\").count()\r\n.sort(\"estadoTecho\")\r\n.show(false)\r\n\r\ndata1.select(\"materialPiso\")\r\n.groupBy(\"materialPiso\").count()\r\n.sort(\"materialPiso\")\r\n.show(false)\r\n\r\ndata1.select(\"estadoPiso\")\r\n.groupBy(\"estadoPiso\").count()\r\n.sort(\"estadoPiso\")\r\n.show(false)\r\n\r\ndata1.select(\"materialParedes\")\r\n.groupBy(\"materialParedes\").count()\r\n.sort(\"materialParedes\")\r\n.show(false)\r\n\r\ndata1.select(\"estadoParedes\")\r\n.groupBy(\"estadoParedes\").count()\r\n.sort(\"estadoParedes\")\r\n.show(false)\r\n\r\ndata1.select(\"cuartodeCosina\")\r\n.groupBy(\"cuartodeCosina\").count()\r\n.sort(\"cuartodeCosina\")\r\n.show(false)\r\n\r\ndata1.select(\"hogarCosinaCon\")\r\n.groupBy(\"hogarCosinaCon\").count()\r\n.sort(\"hogarCosinaCon\")\r\n.show(false)\r\n\r\ndata1.select(\"tipoServicioHigienico\")\r\n.groupBy(\"tipoServicioHigienico\").count()\r\n.sort(\"tipoServicioHigienico\")\r\n.show(false)\r\n\r\ndata1.select(\"noTieneServicioHigienico\")\r\n.where($\"noTieneServicioHigienico\" \u003d!\u003d \" \")\r\n.groupBy(\"noTieneServicioHigienico\").count()\r\n.sort(\"noTieneServicioHigienico\")\r\n.show(false)\r\n\r\ndata1.select(\"instalacionSanitariaUtiliza\")\r\n.where($\"instalacionSanitariaUtiliza\" \u003d!\u003d \" \")\r\n.groupBy(\"instalacionSanitariaUtiliza\").count()\r\n.sort(\"instalacionSanitariaUtiliza\")\r\n.show(false)\r\n\r\ndata1.select(\"obtieneAguaHogar\")\r\n.groupBy(\"obtieneAguaHogar\").count()\r\n.sort(\"obtieneAguaHogar\")\r\n.show(false)\r\n\r\ndata1.select(\"medidordeAgua\")\r\n.where($\"medidordeAgua\" \u003d!\u003d \" \")\r\n.groupBy(\"medidordeAgua\").count()\r\n.sort(\"medidordeAgua\")\r\n.show(false)\r\n\r\ndata1.select(\"juntadeAgua\")\r\n.where($\"juntadeAgua\" \u003d!\u003d \" \")\r\n.groupBy(\"juntadeAgua\").count()\r\n.sort(\"juntadeAgua\")\r\n.show(false)\r\n\r\ndata1.select(\"aguaResiveVivienda\")\r\n.groupBy(\"aguaResiveVivienda\").count()\r\n.sort(\"aguaResiveVivienda\")\r\n.show(false)\r\n\r\ndata1.select(\"serviciodeDucha\")\r\n.groupBy(\"serviciodeDucha\").count()\r\n.sort(\"serviciodeDucha\")\r\n.show(false)\r\n\r\ndata1.select(\"tipoAlumbrado\")\r\n.groupBy(\"tipoAlumbrado\").count()\r\n.sort(\"tipoAlumbrado\")\r\n.show(false)\r\n\r\ndata1.select(\"eliminacionBasura\")\r\n.groupBy(\"eliminacionBasura\").count()\r\n.sort(\"eliminacionBasura\")\r\n.show(false)\r\n\r\ndata1.select(\"ocupaciondeVivienda\")\r\n.groupBy(\"ocupaciondeVivienda\").count()\r\n.sort(\"ocupaciondeVivienda\")\r\n.show(false)\r\n\r\ndata1.select(\"arriendoIncluyePagoAgua\")\r\n.where($\"arriendoIncluyePagoAgua\" \u003d!\u003d \" \")\r\n.groupBy(\"arriendoIncluyePagoAgua\").count()\r\n.sort(\"arriendoIncluyePagoAgua\")\r\n.show(false)\r\n\r\ndata1.select(\"arriendoIncluyePagoLuz\")\r\n.where($\"arriendoIncluyePagoLuz\" \u003d!\u003d \" \")\r\n.groupBy(\"arriendoIncluyePagoLuz\").count()\r\n.sort(\"arriendoIncluyePagoLuz\")\r\n.show(false)\r\n\r\ndata1.select(\"parentescoPropietarioVivienda\")\r\n.where($\"parentescoPropietarioVivienda\" \u003d!\u003d \" \")\r\n.groupBy(\"parentescoPropietarioVivienda\").count()\r\n.sort(\"parentescoPropietarioVivienda\")\r\n.show(false)\r\n\r\ndata1.select(\"tieneVehiculos\")\r\n.groupBy(\"tieneVehiculos\").count()\r\n.sort(\"tieneVehiculos\")\r\n.show(false)\r\n\r\ndata1.select(\"tieneMotos\")\r\n.groupBy(\"tieneMotos\").count()\r\n.sort(\"tieneMotos\")\r\n.show(false)\r\n\r\ndata1.select(\"utilizaCombustibleSuper\")\r\n.where($\"utilizaCombustibleSuper\" \u003d!\u003d \" \")\r\n.groupBy(\"utilizaCombustibleSuper\").count()\r\n.sort(\"utilizaCombustibleSuper\")\r\n.show(false)\r\n\r\ndata1.select(\"utilizaCombustibleExtra\")\r\n.where($\"utilizaCombustibleExtra\" \u003d!\u003d \" \")\r\n.groupBy(\"utilizaCombustibleExtra\").count()\r\n.sort(\"utilizaCombustibleExtra\")\r\n.show(false)\r\n\r\ndata1.select(\"utilizaCombustibleDiesel\")\r\n.where($\"utilizaCombustibleDiesel\" \u003d!\u003d \" \")\r\n.groupBy(\"utilizaCombustibleDiesel\").count()\r\n.sort(\"utilizaCombustibleDiesel\")\r\n.show(false)\r\n\r\ndata1.select(\"utilizaCombustibleEcopais\")\r\n.where($\"utilizaCombustibleEcopais\" \u003d!\u003d \" \")\r\n.groupBy(\"utilizaCombustibleEcopais\").count()\r\n.sort(\"utilizaCombustibleEcopais\")\r\n.show(false)\r\n\r\ndata1.select(\"utilizaElectricidad\")\r\n.where($\"utilizaElectricidad\" \u003d!\u003d \" \")\r\n.groupBy(\"utilizaElectricidad\").count()\r\n.sort(\"utilizaElectricidad\")\r\n.show(false)\r\n\r\ndata1.select(\"utilizaGas\")\r\n.where($\"utilizaGas\" \u003d!\u003d \" \")\r\n.groupBy(\"utilizaGas\").count()\r\n.sort(\"utilizaGas\")\r\n.show(false)\r\n\r\ndata1.select(\"mes\")\r\n.groupBy(\"mes\").count()\r\n.sort(\"mes\")\r\n.show(false)"
    },
    {
      "cell_type": "markdown",
      "metadata": {},
      "source": "\r\n# Nombrar los DataFrame\r\n**Para ayudarnos con la manipulacion de los datos hemos nombrado los dataframe que vamos a utilizar**"
    },
    {
      "cell_type": "code",
      "execution_count": 29,
      "metadata": {
        "autoscroll": "auto"
      },
      "outputs": [],
      "source": "val dfValorAlquiler \u003d data1.select(\"valorAlquiler\")\r\nval dfCombustibleSuper \u003d data1.select(\"gastosCombustibleSuper\")\r\nval dfCombustibleExtra \u003d data1.select(\"gastosCombustibleExtra\")\r\nval dfCombustibleEcopais \u003d data1.select(\"gastosCombustibleEcopais\")\r\nval dfElectricidad \u003d data1.select(\"gastosElectricidad\")\r\n"
    },
    {
      "cell_type": "markdown",
      "metadata": {},
      "source": "\r\n# Outlier\r\n**A continuacion utilizaremos el metodo MAD para sacar los outlier de algunas columnas**\r\n\r\n# Metodo MAD"
    },
    {
      "cell_type": "markdown",
      "metadata": {},
      "source": "\r\n# Media\r\n**Primero Sacaremos la Media de los datos que vamos a sacar los outlier**"
    },
    {
      "cell_type": "code",
      "execution_count": 32,
      "metadata": {
        "autoscroll": "auto"
      },
      "outputs": [],
      "source": "//Valor alquiler\r\nval mediaVA \u003d dfValorAlquiler.stat\r\n.approxQuantile(\"valorAlquiler\", Array(0.5), 0.0)(0)\r\n\r\n//Gastos del combustible Super\r\nval mediaCS \u003d dfCombustibleSuper.stat\r\n.approxQuantile(\"gastosCombustibleSuper\", Array(0.5), 0.0)(0)\r\n\r\n//Gastos del combustible Extra\r\nval mediaCE \u003d dfCombustibleExtra.stat\r\n.approxQuantile(\"gastosCombustibleExtra\", Array(0.5), 0.0)(0)\r\n\r\n//Gastos del combustible Ecopais\r\nval mediaCEP \u003d dfCombustibleEcopais.stat\r\n.approxQuantile(\"gastosCombustibleEcopais\", Array(0.5), 0.0)(0)\r\n\r\n//Gastos de Electricidad\r\nval mediaE \u003d dfElectricidad.stat\r\n.approxQuantile(\"gastosElectricidad\", Array(0.5), 0.0)(0)\r\n"
    },
    {
      "cell_type": "markdown",
      "metadata": {},
      "source": "\r\n# Desviacion Absoluta\r\n**A continuacion sacamos la Desviacion Absoluta de los datos antes sacados**"
    },
    {
      "cell_type": "code",
      "execution_count": 34,
      "metadata": {
        "autoscroll": "auto"
      },
      "outputs": [],
      "source": "//Valor alquiler\nval dfDesAbsVA \u003d dfValorAlquiler\n.select(abs($\"valorAlquiler\" - mediaVA).as(\"desAbsVA\"))\n\n//Gastos del combustible Super\nval dfDesAbsCS \u003d dfCombustibleSuper\n.select(abs($\"gastosCombustibleSuper\" - mediaCS).as(\"desAbsCS\"))\n\n//Gastos del combustible Extra\nval dfDesAbsCE \u003d dfCombustibleExtra\n.select(abs($\"gastosCombustibleExtra\" - mediaCE).as(\"desAbsCE\"))\n\n//Gastos del combustible Ecopais\nval dfDesAbsCEP \u003d dfCombustibleEcopais\n.select(abs($\"gastosCombustibleEcopais\" - mediaCEP).as(\"desAbsCEP\"))\n\n//Gastos de Electricidad\nval dfDesAbsE \u003d dfElectricidad\n.select(abs($\"gastosElectricidad\" - mediaE).as(\"desAbsE\"))\n\n"
    },
    {
      "cell_type": "markdown",
      "metadata": {},
      "source": "\r\n# MAD\r\n**A continuacion sacaremos el mad de los datos**"
    },
    {
      "cell_type": "code",
      "execution_count": 36,
      "metadata": {
        "autoscroll": "auto"
      },
      "outputs": [],
      "source": "val madVA \u003d dfDesAbsVA.stat.approxQuantile(\"desAbsVA\", Array(0.5), 0.0)(0)\r\nval madCS \u003d dfDesAbsCS.stat.approxQuantile(\"desAbsCS\", Array(0.5), 0.0)(0)\r\nval madCE \u003d dfDesAbsCE.stat.approxQuantile(\"desAbsCE\", Array(0.5), 0.0)(0)\r\nval madCEP \u003d dfDesAbsCEP.stat.approxQuantile(\"desAbsCEP\", Array(0.5), 0.0)(0)\r\nval madE \u003d dfDesAbsE.stat.approxQuantile(\"desAbsE\", Array(0.5), 0.0)(0)"
    },
    {
      "cell_type": "markdown",
      "metadata": {},
      "source": "\r\n-El mad del valor alquiler es 50\r\n-El mad de los gastos de combustibles Super es 35\r\n-El mad de los gastos de combustibles Extra es 20\r\n-El mad de los gastos de combustibles Ecopais es 20\r\n-El mad de los gastos Electricos es 3\r\n"
    },
    {
      "cell_type": "markdown",
      "metadata": {},
      "source": "\r\n# Limites Superiores e Inferiores\r\n**Seguiremos sacando los limites tanto inferiores como superiores de los datos**"
    },
    {
      "cell_type": "code",
      "execution_count": 39,
      "metadata": {
        "autoscroll": "auto"
      },
      "outputs": [],
      "source": "//Valor alquiler\nval limInferVA \u003d mediaVA - (3 * madVA)\nval limSupeVA \u003d mediaVA + (2 * madVA)\n\n//Gastos del combustible Super\nval limInferCS \u003d mediaCS - (3 * madCS)\nval limSupeCS \u003d mediaCS + (2 * madCS)\n\n//Gastos del combustible Extra\nval limInferCE \u003d mediaCE - (3 * madCE)\nval limSupeCE \u003d mediaCE + (2 * madCE)\n\n//Gastos del combustible Ecopais\nval limInferCEP \u003d mediaCEP - (3 * madCEP)\nval limSupeCEP \u003d mediaCEP + (2 * madCEP)\n\n//Gastos de Electricidad\nval limInferE \u003d mediaE - (3 * madE)\nval limSupeE \u003d mediaE + (2 * madE)\n"
    },
    {
      "cell_type": "markdown",
      "metadata": {},
      "source": "\r\n# Limites Iferiores\r\n**Limites inferiores de los datos **"
    },
    {
      "cell_type": "code",
      "execution_count": 41,
      "metadata": {
        "autoscroll": "auto"
      },
      "outputs": [],
      "source": "\nval limiteInferVA \u003d dfValorAlquiler.where($\"valorAlquiler\" \u003c limInferVA ).count\nval limiteInferCS \u003d dfCombustibleSuper.where($\"gastosCombustibleSuper\" \u003c limInferCS ).count\nval limiteInferCE \u003d dfCombustibleExtra.where($\"gastosCombustibleExtra\" \u003c limInferCE ).count\nval limiteInferCEP \u003d dfCombustibleEcopais.where($\"gastosCombustibleEcopais\" \u003c limInferCEP ).count\nval limiteInferE \u003d dfElectricidad.where($\"gastosElectricidad\" \u003c limInferE ).count\n"
    },
    {
      "cell_type": "markdown",
      "metadata": {},
      "source": "\r\n# Limites Superiores\r\n**Limites superiores de los datos**\r\n"
    },
    {
      "cell_type": "code",
      "execution_count": 43,
      "metadata": {
        "autoscroll": "auto"
      },
      "outputs": [],
      "source": "val limiteSupeVA \u003d dfValorAlquiler.where($\"valorAlquiler\" \u003e limSupeVA ).count\nval limiteSupeCS \u003d dfCombustibleSuper.where($\"gastosCombustibleSuper\" \u003e limSupeCS ).count\nval limiteSupeCE \u003d dfCombustibleExtra.where($\"gastosCombustibleExtra\" \u003e limSupeCE ).count\nval limiteSupeCEP \u003d dfCombustibleEcopais.where($\"gastosCombustibleEcopais\" \u003e limSupeCEP ).count\nval limiteSupeE \u003d dfElectricidad.where($\"gastosElectricidad\" \u003e limSupeE ).count\n\n"
    },
    {
      "cell_type": "markdown",
      "metadata": {},
      "source": "\r\n# DataFrame sin Outlier\r\n**Actualizaremos los datos para que salgan los datos sin los Outlier**"
    },
    {
      "cell_type": "code",
      "execution_count": 45,
      "metadata": {
        "autoscroll": "auto"
      },
      "outputs": [],
      "source": "val dfsinoutlierVA \u003d dfValorAlquiler\r\n.where($\"valorAlquiler\" \u003e\u003d limInferVA \u0026\u0026 $\"valorAlquiler\" \u003c\u003d limSupeVA)\r\ndfsinoutlierVA.select(\"valorAlquiler\").summary().show\r\n\r\nval dfsinoutlierCS \u003d dfCombustibleSuper\r\n.where($\"gastosCombustibleSuper\" \u003e\u003d limInferCS \u0026\u0026 $\"gastosCombustibleSuper\" \u003c\u003d limSupeCS)\r\ndfsinoutlierCS.select(\"gastosCombustibleSuper\").summary().show\r\n\r\nval dfsinoutlierCE \u003d dfCombustibleExtra\r\n.where($\"gastosCombustibleExtra\" \u003e\u003d limInferCE \u0026\u0026 $\"gastosCombustibleExtra\" \u003c\u003d limSupeCE)\r\ndfsinoutlierCE.select(\"gastosCombustibleExtra\").summary().show\r\n\r\nval dfsinoutlierCEP \u003d dfCombustibleEcopais\r\n.where($\"gastosCombustibleEcopais\" \u003e\u003d limInferCEP \u0026\u0026 $\"gastosCombustibleEcopais\" \u003c\u003d limSupeCEP)\r\ndfsinoutlierCEP.select(\"gastosCombustibleEcopais\").summary().show\r\n\r\nval dfsinoutlierE \u003d dfElectricidad\r\n.where($\"gastosElectricidad\" \u003e\u003d limInferE \u0026\u0026 $\"gastosElectricidad\" \u003c\u003d limSupeE)\r\ndfsinoutlierE.select(\"gastosElectricidad\").summary().show"
    },
    {
      "cell_type": "markdown",
      "metadata": {},
      "source": "\r\n# Histograma 1\r\n**Utilizando los datos q tenemos para realizar una histograma que muestre un conteo de las canditades que hay en cada columna**\r\n"
    },
    {
      "cell_type": "code",
      "execution_count": 47,
      "metadata": {
        "autoscroll": "auto"
      },
      "outputs": [],
      "source": "z.show(dfsinoutlierVA.select(\"valorAlquiler\")\n.groupBy(\"valorAlquiler\")\n.count())\n\nz.show(dfsinoutlierCS.select(\"gastosCombustibleSuper\")\n.groupBy(\"gastosCombustibleSuper\")\n.count())\n\nz.show(dfsinoutlierCE.select(\"gastosCombustibleExtra\")\n.groupBy(\"gastosCombustibleExtra\")\n.count())\n\nz.show(dfsinoutlierCEP.select(\"gastosCombustibleEcopais\")\n.groupBy(\"gastosCombustibleEcopais\")\n.count())\n\nz.show(dfsinoutlierE.select(\"gastosElectricidad\")\n.groupBy(\"gastosElectricidad\")\n.count())\n"
    },
    {
      "cell_type": "markdown",
      "metadata": {},
      "source": "\r\n# Histograma 2\r\n**Utilizaremos otro metodo de histogramas que nos dividiralos datos en una cantidad de bins que escogamos o saquemos atravez de una operacion, estoy bins determinaran cuantos rangos utilizaremos para dividir los datos**"
    },
    {
      "cell_type": "code",
      "execution_count": 49,
      "metadata": {
        "autoscroll": "auto"
      },
      "outputs": [],
      "source": "val rowValuesVA \u003d dfsinoutlierVA.select(min($\"valorAlquiler\"),max($\"valorAlquiler\")).first\r\nval minvalueVA \u003d rowValuesVA(0).asInstanceOf[Int]\r\nval maxvalueVA \u003d rowValuesVA(1).asInstanceOf[Int]\r\nval binsVA \u003d math.sqrt(dfsinoutlierVA.count).toInt\r\nval rangeVA \u003d (maxvalueVA - minvalueVA)/binsVA\r\n\r\nval rowValuesCS \u003d dfsinoutlierCS.select(min($\"gastosCombustibleSuper\"),max($\"gastosCombustibleSuper\")).first\r\nval minvalueCS \u003d rowValuesCS(0).asInstanceOf[Int]\r\nval maxvalueCS \u003d rowValuesCS(1).asInstanceOf[Int]\r\nval binsCS \u003d math.sqrt(dfsinoutlierCS.count).toInt\r\nval rangeCS \u003d (maxvalueCS - minvalueCS)/binsCS\r\n\r\nval rowValuesCE \u003d dfsinoutlierCE.select(min($\"gastosCombustibleExtra\"),max($\"gastosCombustibleExtra\")).first\r\nval minvalueCE \u003d rowValuesCE(0).asInstanceOf[Int]\r\nval maxvalueCE \u003d rowValuesCE(1).asInstanceOf[Int]\r\nval binsCE \u003d math.sqrt(dfsinoutlierCE.count).toInt\r\nval rangeCE \u003d (maxvalueCE - minvalueCE)/binsCE\r\n\r\nval rowValuesCEP \u003d dfsinoutlierCEP.select(min($\"gastosCombustibleEcopais\"),max($\"gastosCombustibleEcopais\")).first\r\nval minvalueCEP \u003d rowValuesCEP(0).asInstanceOf[Int]\r\nval maxvalueCEP \u003d rowValuesCEP(1).asInstanceOf[Int]\r\nval binsCEP \u003d math.sqrt(dfsinoutlierCEP.count).toInt\r\nval rangeCEP \u003d (maxvalueCEP - minvalueCEP)/binsCEP\r\n\r\nval rowValuesE \u003d dfsinoutlierE.select(min($\"gastosElectricidad\"),max($\"gastosElectricidad\")).first\r\nval minvalueE \u003d rowValuesE(0).asInstanceOf[Int]\r\nval maxvalueE \u003d rowValuesE(1).asInstanceOf[Int]\r\nval binsE \u003d math.sqrt(dfsinoutlierE.count).toInt\r\nval rangeE \u003d (maxvalueE - minvalueE)/binsE\r\n\r\n"
    },
    {
      "cell_type": "markdown",
      "metadata": {},
      "source": "\r\n# Creacion de intervalos\r\n**Se crearan los intervalos de cada grupo de datos**"
    },
    {
      "cell_type": "code",
      "execution_count": 51,
      "metadata": {
        "autoscroll": "auto"
      },
      "outputs": [],
      "source": "val intervalCounterVA \u003d (minvalueVA to maxvalueVA by rangeVA).map{i \u003d\u003e(i,i+rangeVA)}\r\n.map(r \u003d\u003e (r._1,r._2, dfsinoutlierVA.where($\"valorAlquiler\".between(r._1,r._2)).count))\r\n\r\nval intervalCounterCS \u003d (minvalueCS to maxvalueCS by rangeCS).map{i \u003d\u003e(i,i+rangeCS)}\r\n.map(r \u003d\u003e (r._1,r._2, dfsinoutlierCS.where($\"gastosCombustibleSuper\".between(r._1,r._2)).count))\r\n\r\nval intervalCounterCE \u003d (minvalueCE to maxvalueCE by rangeCE).map{i \u003d\u003e(i,i+rangeCE)}\r\n.map(r \u003d\u003e (r._1,r._2, dfsinoutlierCE.where($\"gastosCombustibleExtra\".between(r._1,r._2)).count))\r\n\r\nval intervalCounterCEP \u003d (minvalueCEP to maxvalueCEP by rangeCEP).map{i \u003d\u003e(i,i+rangeCEP)}\r\n.map(r \u003d\u003e (r._1,r._2, dfsinoutlierCEP.where($\"gastosCombustibleEcopais\".between(r._1,r._2)).count))\r\n\r\nval intervalCounterE \u003d (minvalueE to maxvalueE by rangeE).map{i \u003d\u003e(i,i+rangeE)}\r\n.map(r \u003d\u003e (r._1,r._2, dfsinoutlierE.where($\"gastosElectricidad\".between(r._1,r._2)).count))"
    },
    {
      "cell_type": "code",
      "execution_count": 52,
      "metadata": {
        "autoscroll": "auto"
      },
      "outputs": [],
      "source": "val dfintervalsVA \u003d spark\r\n.createDataFrame(intervalCounterVA.toSeq)\r\n.toDF(\"low\",\"high\",\"count\")\r\n.withColumn(\"interval\",concat($\"low\", lit(\"-\"),$\"high\"))\r\n\r\nval dfintervalsCS \u003d spark\r\n.createDataFrame(intervalCounterCS.toSeq)\r\n.toDF(\"low\",\"high\",\"count\")\r\n.withColumn(\"interval\",concat($\"low\", lit(\"-\"),$\"high\"))\r\n\r\nval dfintervalsCE \u003d spark\r\n.createDataFrame(intervalCounterCE.toSeq)\r\n.toDF(\"low\",\"high\",\"count\")\r\n.withColumn(\"interval\",concat($\"low\", lit(\"-\"),$\"high\"))\r\n\r\nval dfintervalsCEP \u003d spark\r\n.createDataFrame(intervalCounterCEP.toSeq)\r\n.toDF(\"low\",\"high\",\"count\")\r\n.withColumn(\"interval\",concat($\"low\", lit(\"-\"),$\"high\"))\r\n\r\nval dfintervalsE \u003d spark\r\n.createDataFrame(intervalCounterE.toSeq)\r\n.toDF(\"low\",\"high\",\"count\")\r\n.withColumn(\"interval\",concat($\"low\", lit(\"-\"),$\"high\"))"
    },
    {
      "cell_type": "markdown",
      "metadata": {},
      "source": "\r\n**Graficas**"
    },
    {
      "cell_type": "code",
      "execution_count": 54,
      "metadata": {
        "autoscroll": "auto"
      },
      "outputs": [],
      "source": "z.show(dfintervalsVA.select(\"interval\",\"count\").where($\"count\" \u003d!\u003d \"0\"))\r\nz.show(dfintervalsCS.select(\"interval\",\"count\").where($\"count\" \u003d!\u003d \"0\"))\r\nz.show(dfintervalsCE.select(\"interval\",\"count\").where($\"count\" \u003d!\u003d \"0\"))\r\nz.show(dfintervalsCEP.select(\"interval\",\"count\").where($\"count\" \u003d!\u003d \"0\"))\r\nz.show(dfintervalsE.select(\"interval\",\"count\").where($\"count\" \u003d!\u003d \"0\"))\r\n\r\n"
    },
    {
      "cell_type": "markdown",
      "metadata": {},
      "source": "# Graficas en Angular\n**Un metodo en el que utilizamos angular para hacer graficas**"
    },
    {
      "cell_type": "code",
      "execution_count": 56,
      "metadata": {
        "autoscroll": "auto"
      },
      "outputs": [],
      "source": "data1.groupBy(\"area\").pivot(\"ocupaciondeVivienda\").avg(\"valorAlquiler\").orderBy(\"area\").show(false)"
    },
    {
      "cell_type": "code",
      "execution_count": 57,
      "metadata": {
        "autoscroll": "auto"
      },
      "outputs": [],
      "source": "val auxDF \u003d data1.groupBy(\"area\").pivot(\"ocupaciondeVivienda\").avg(\"valorAlquiler\").orderBy(\"area\")"
    },
    {
      "cell_type": "code",
      "execution_count": 58,
      "metadata": {
        "autoscroll": "auto"
      },
      "outputs": [],
      "source": "val json \u003d auxDF.toJSON.map(row \u003d\u003e row.mkString).collectAsList"
    },
    {
      "cell_type": "code",
      "execution_count": 59,
      "metadata": {
        "autoscroll": "auto"
      },
      "outputs": [],
      "source": "z.angularBind(\"dataAsJSON\", json)"
    },
    {
      "cell_type": "code",
      "execution_count": 60,
      "metadata": {
        "autoscroll": "auto"
      },
      "outputs": [],
      "source": "%angular\r\n\u003cinput type\u003d\"text\" id\u003d\"data4Spark\" value\u003d{{dataAsJSON}}\u003e"
    },
    {
      "cell_type": "code",
      "execution_count": 61,
      "metadata": {
        "autoscroll": "auto"
      },
      "outputs": [],
      "source": "%angular\n\u003cscript\u003e\nvar cleanText \u003d $(\u0027#data4Spark\u0027).val().replaceAll(\"\\\\\", \"\").replaceAll(\"\\\"{\", \"{\").replaceAll(\"}\\\"\",\n\"}\");\nconsole.log(cleanText);\n$(\u0027#data4Spark\u0027).val(cleanText);\n\u003c/script\u003e\n"
    },
    {
      "cell_type": "code",
      "execution_count": 62,
      "metadata": {
        "autoscroll": "auto"
      },
      "outputs": [],
      "source": "%angular\n\u003cstyle\u003e\n#chartdiv {\nwidth: 100%;\nheight: 500px;\n}\n\u003c/style\u003e\n\u003c!-- Resources --\u003e\n\u003cscript src\u003d\"https://cdn.amcharts.com/lib/5/index.js\"\u003e\u003c/script\u003e\n\u003cscript src\u003d\"https://cdn.amcharts.com/lib/5/xy.js\"\u003e\u003c/script\u003e\n\u003cscript src\u003d\"https://cdn.amcharts.com/lib/5/themes/Animated.js\"\u003e\u003c/script\u003e\n\n\u003c!-- Chart code --\u003e\n\u003cscript\u003e\n\n// Leer los datos desde el input (No necesita cambio) y transformarlos a JSON\nvar data \u003d JSON.parse($(\u0027#data4Spark\u0027).val());\nconsole.log(data);\n\nam5.ready(function() {\n\n    // Create root element\n    // https://www.amcharts.com/docs/v5/getting-started/#Root_element\n    var root \u003d am5.Root.new(\"chartdiv\");\n\n    // Set themes\n    // https://www.amcharts.com/docs/v5/concepts/themes/\n    root.setThemes([\n    am5themes_Animated.new(root)\n    ]);\n\n    // Create chart\n    // https://www.amcharts.com/docs/v5/charts/xy-chart/\n    var chart \u003d root.container.children.push(am5xy.XYChart.new(root, {\n        panX: false,\n        panY: false,\n        wheelX: \"panX\",\n        wheelY: \"zoomX\",\n        layout: root.verticalLayout\n    }));\n\n    // Add legend\n    // https://www.amcharts.com/docs/v5/charts/xy-chart/legend-xy-series/\n    var legend \u003d chart.children.push(\n        am5.Legend.new(root, {\n            centerX: am5.p50,\n            x: am5.p50,\n            position: \u0027top\u0027\n        })\n    );\n\n    // Create axes\n    // https://www.amcharts.com/docs/v5/charts/xy-chart/axes/\n    var xRenderer \u003d am5xy.AxisRendererX.new(root, {\n        cellStartLocation: 0.1,\n        cellEndLocation: 0.9\n    })\n\n    var xAxis \u003d chart.xAxes.push(am5xy.CategoryAxis.new(root, {\n        categoryField: \"area\", //Cambiar por su columna de agrupamiento\n        renderer: xRenderer,\n        tooltip: am5.Tooltip.new(root, {})\n    }));\n\n    xRenderer.grid.template.setAll({\n        location: 1\n    })\n\n    xAxis.data.setAll(data);\n    \n    var yAxis \u003d chart.yAxes.push(am5xy.ValueAxis.new(root, {\n        renderer: am5xy.AxisRendererY.new(root, {\n            strokeOpacity: 0.1\n        })\n    }));\n\n    // Add series\n    // https://www.amcharts.com/docs/v5/charts/xy-chart/series/\n    function makeSeries(name, fieldName) {\n        var series \u003d chart.series.push(am5xy.ColumnSeries.new(root, {\n            name: name,\n            xAxis: xAxis,\n            yAxis: yAxis,\n            valueYField: fieldName,\n            categoryXField: \"area\" //Cambiar por su columna de agrupamiento\n        }));\n        series.columns.template.setAll({\n            tooltipText: \"{name}, {categoryX.formatNumber(\u0027#\u0027)}:{valueY.formatNumber(\u0027###.##\u0027)}\",\n            width: am5.percent(90),\n            tooltipY: 0,\n            strokeOpacity: 0\n        });\n        \n        series.data.setAll(data);\n        \n        // Make stuff animate on load\n        // https://www.amcharts.com/docs/v5/concepts/animations/\n        series.appear();\n        \n        series.bullets.push(function() {\n            return am5.Bullet.new(root, {\n                locationY: 0,\n                sprite: am5.Label.new(root, {\n                    text: \"{valueY}\",\n                    fill: root.interfaceColors.get(\"alternativeText\"),\n                    centerY: 0,\n                    centerX: am5.p50,\n                    populateText: true\n                })\n            });\n        });\n        legend.data.push(series);\n    }\n\n    //Necesita adaptar para el resto de sus columnas, una llamada a makeSeries por cada columna\n    //En makeSeries, el primer parámetro es el valor a mostrar y el segundo es el nombre de\n    //la columna o propiedad JSON\n    makeSeries(\"Arriendo\", \"Arriendo\");\n    makeSeries(\"Anticresis\", \"Anticresis\");\n    makeSeries(\"Propia y la estapagando\", \"Propia y la esta pagando\");\n    makeSeries(\"propia y totalmente pagada\", \"Propia y totalmente pagada\");\n    makeSeries(\"Cedida\", \"Cedida\");\n    makeSeries(\"Recibida por servicios\", \"Recibida por servicios\");\n    makeSeries(\"Otros\", \"Otros\");\n\n    // Make stuff animate on load\n    // https://www.amcharts.com/docs/v5/concepts/animations/\n    chart.appear(1000, 100);\n\n}); // end am5.ready()\n\u003c/script\u003e\n\u003c!-- HTML --\u003e\n\u003cdiv id\u003d\"chartdiv\"\u003e\u003c/div\u003e\n"
    },
    {
      "cell_type": "code",
      "execution_count": 63,
      "metadata": {
        "autoscroll": "auto"
      },
      "outputs": [],
      "source": "\ndata1.groupBy(\"area\").pivot(\"viaAccesoVivienda\").count().show(false)"
    },
    {
      "cell_type": "code",
      "execution_count": 64,
      "metadata": {
        "autoscroll": "auto"
      },
      "outputs": [],
      "source": "// La via de acceso a la vivienda en el area Urbana\nz.show(data1.groupBy(\"area\").pivot(\"viaAccesoVivienda\").count().where($\"area\" \u003d\u003d\u003d \"Urbano\"))\n// La via de acceso a la vivienda en el area Rural\nz.show(data1.groupBy(\"area\").pivot(\"viaAccesoVivienda\").count().where($\"area\" \u003d\u003d\u003d \"Rural\"))"
    },
    {
      "cell_type": "markdown",
      "metadata": {},
      "source": "\r\n# Tercera Consulta\r\n**El tipo de Vivienda que se encuentra con mas frecuencia en una area**"
    },
    {
      "cell_type": "code",
      "execution_count": 66,
      "metadata": {
        "autoscroll": "auto"
      },
      "outputs": [],
      "source": "data1.groupBy(\"area\").pivot(\"tipoVivienda\").count().show(false)\n\n"
    },
    {
      "cell_type": "code",
      "execution_count": 67,
      "metadata": {
        "autoscroll": "auto"
      },
      "outputs": [],
      "source": "z.show(data1.groupBy(\"area\").pivot(\"tipoVivienda\").count().where($\"area\" \u003d\u003d\u003d \"Urbano\"))\r\nz.show(data1.groupBy(\"area\").pivot(\"tipoVivienda\").count().where($\"area\" \u003d\u003d\u003d \"Rural\"))"
    },
    {
      "cell_type": "markdown",
      "metadata": {},
      "source": "\r\n# Cuarta Consulta\r\n**Consultando si el material del techo y su estado**"
    },
    {
      "cell_type": "code",
      "execution_count": 69,
      "metadata": {
        "autoscroll": "auto"
      },
      "outputs": [],
      "source": "data1.groupBy(\"materialTecho\").pivot(\"estadoTecho\").count().show(false)\n"
    },
    {
      "cell_type": "code",
      "execution_count": 70,
      "metadata": {
        "autoscroll": "auto"
      },
      "outputs": [],
      "source": "z.show(data1.groupBy(\"materialTecho\").pivot(\"estadoTecho\").count())"
    },
    {
      "cell_type": "markdown",
      "metadata": {},
      "source": "\r\n# Quinta Consulta\r\n**Consultando si el material del Piso y su estado**"
    },
    {
      "cell_type": "code",
      "execution_count": 72,
      "metadata": {
        "autoscroll": "auto"
      },
      "outputs": [],
      "source": "data1.groupBy(\"materialPiso\").pivot(\"estadoPiso\").count().show(false)\n"
    },
    {
      "cell_type": "code",
      "execution_count": 73,
      "metadata": {
        "autoscroll": "auto"
      },
      "outputs": [],
      "source": "z.show(data1.groupBy(\"materialPiso\").pivot(\"estadoPiso\").count())"
    },
    {
      "cell_type": "markdown",
      "metadata": {},
      "source": "\r\n# Sexta Consulta\r\n**Consultando si el material del Piso y su estado**"
    },
    {
      "cell_type": "code",
      "execution_count": 75,
      "metadata": {
        "autoscroll": "auto"
      },
      "outputs": [],
      "source": "data1.groupBy(\"materialParedes\").pivot(\"estadoParedes\").count().show(false)\n"
    },
    {
      "cell_type": "code",
      "execution_count": 76,
      "metadata": {
        "autoscroll": "auto"
      },
      "outputs": [],
      "source": "z.show(data1.groupBy(\"materialParedes\").pivot(\"estadoParedes\").count())"
    },
    {
      "cell_type": "markdown",
      "metadata": {},
      "source": "\r\n# Septima Consulta\r\n**Consultando si el Hogar tiene un cuarto exclusivo para cosinar y con que se cosina mas en la casa**"
    },
    {
      "cell_type": "code",
      "execution_count": 78,
      "metadata": {
        "autoscroll": "auto"
      },
      "outputs": [],
      "source": "data1.groupBy(\"cuartodeCosina\").pivot(\"hogarCosinaCon\").count().show\n\n"
    },
    {
      "cell_type": "code",
      "execution_count": 79,
      "metadata": {
        "autoscroll": "auto"
      },
      "outputs": [],
      "source": "z.show(data1.groupBy(\"cuartodeCosina\").pivot(\"hogarCosinaCon\").count().where($\"cuartodeCosina\" \u003d\u003d\u003d \"Si\"))"
    },
    {
      "cell_type": "markdown",
      "metadata": {},
      "source": "\r\n# Octava Consulta\r\n**Consultando por donde se obtiene el agua el hogar y si tiene ducha**"
    },
    {
      "cell_type": "code",
      "execution_count": 81,
      "metadata": {
        "autoscroll": "auto"
      },
      "outputs": [],
      "source": "data1.groupBy(\"obtieneAguaHogar\").pivot(\"serviciodeDucha\").count().show(false)"
    },
    {
      "cell_type": "code",
      "execution_count": 82,
      "metadata": {
        "autoscroll": "auto"
      },
      "outputs": [],
      "source": "z.show(data1.groupBy(\"obtieneAguaHogar\").pivot(\"serviciodeDucha\").count())"
    },
    {
      "cell_type": "markdown",
      "metadata": {},
      "source": "\r\n# Novena Consulta\r\n**Consultando el promedio de los gastos de combustible Super en las personas que tienen Vehiculos**"
    },
    {
      "cell_type": "code",
      "execution_count": 84,
      "metadata": {
        "autoscroll": "auto"
      },
      "outputs": [],
      "source": "data1.groupBy(\"tieneVehiculos\").pivot(\"utilizaCombustibleSuper\").avg(\"gastosCombustibleSuper\").orderBy(\"tieneVehiculos\").show(false)\n\n"
    },
    {
      "cell_type": "code",
      "execution_count": 85,
      "metadata": {
        "autoscroll": "auto"
      },
      "outputs": [],
      "source": "z.show(data1.groupBy(\"tieneVehiculos\").pivot(\"utilizaCombustibleSuper\").avg(\"gastosCombustibleSuper\").orderBy(\"tieneVehiculos\"))"
    },
    {
      "cell_type": "markdown",
      "metadata": {},
      "source": "\r\n# Decima Consulta\r\n**Consultando el promedio de los gastos de combustible Super en las personas que tienen Motos**\r\n"
    },
    {
      "cell_type": "code",
      "execution_count": 87,
      "metadata": {
        "autoscroll": "auto"
      },
      "outputs": [],
      "source": "data1.groupBy(\"tieneMotos\").pivot(\"utilizaCombustibleSuper\").avg(\"gastosCombustibleSuper\").orderBy(\"tieneMotos\").show(false)"
    },
    {
      "cell_type": "code",
      "execution_count": 88,
      "metadata": {
        "autoscroll": "auto"
      },
      "outputs": [],
      "source": "z.show(data1.groupBy(\"tieneMotos\").pivot(\"utilizaCombustibleSuper\").avg(\"gastosCombustibleSuper\").orderBy(\"tieneMotos\"))"
    },
    {
      "cell_type": "markdown",
      "metadata": {},
      "source": "\r\n# Onceava Consulta\r\n**Consultando el promedio de los gastos de combustible Extra en el mes de enero**"
    },
    {
      "cell_type": "code",
      "execution_count": 90,
      "metadata": {
        "autoscroll": "auto"
      },
      "outputs": [],
      "source": "data1.groupBy(\"mes\").pivot(\"utilizaCombustibleExtra\").avg(\"gastosCombustibleExtra\").orderBy(\"mes\").show(false)"
    },
    {
      "cell_type": "code",
      "execution_count": 91,
      "metadata": {
        "autoscroll": "auto"
      },
      "outputs": [],
      "source": "z.show(data1.groupBy(\"mes\").pivot(\"utilizaCombustibleExtra\").avg(\"gastosCombustibleExtra\").orderBy(\"mes\"))"
    },
    {
      "cell_type": "markdown",
      "metadata": {},
      "source": "\r\n# Doceava Consulta\r\n**Cuanto se gasta en el alquiler segun el tipo vivienda y el mes**"
    },
    {
      "cell_type": "code",
      "execution_count": 93,
      "metadata": {
        "autoscroll": "auto"
      },
      "outputs": [],
      "source": "data1.groupBy(\"mes\").pivot(\"tipoVivienda\").avg(\"valorAlquiler\").orderBy(\"mes\").show(false)"
    },
    {
      "cell_type": "code",
      "execution_count": 94,
      "metadata": {
        "autoscroll": "auto"
      },
      "outputs": [],
      "source": "z.show(data1.groupBy(\"mes\").pivot(\"tipoVivienda\").avg(\"valorAlquiler\").orderBy(\"mes\"))"
    },
    {
      "cell_type": "code",
      "execution_count": 95,
      "metadata": {
        "autoscroll": "auto"
      },
      "outputs": [],
      "source": "%mysql\nselect * from vivienda;\nBueno ya tienes la base ahora diles que hagan unas 5 consultas y "
    },
    {
      "cell_type": "code",
      "execution_count": 96,
      "metadata": {
        "autoscroll": "auto"
      },
      "outputs": [],
      "source": "%mysql\nselect vi01.Descripcion as Acceso_Principal, area.Descripción ,count(*) as Total\nfrom vivienda, vi01, area,    infraestructura_vivienda i\nwhere vivienda.area \u003d area.idarea and i.id_vivienda \u003d vivienda.id_vivienda and i.vi01 \u003d vi01.idvi01\nand area.Descripción \u003d \u0027Urbana\u0027\nGROUP BY Acceso_Principal, area.Descripción\nOrder By Total;\n"
    },
    {
      "cell_type": "code",
      "execution_count": 97,
      "metadata": {
        "autoscroll": "auto"
      },
      "outputs": [],
      "source": "%mysql\nSELECT  hogar.id_hogar AS numero_hogares\nFROM hogar\nJOIN encuesta_hogar ON hogar.id_hogar \u003d encuesta_hogar.id_hogar\nJOIN vi12 ON encuesta_hogar.vi12 \u003d vi12.idvi12\nWHERE vi12.Descripcion \u003d \u0027Vela, candil, mechero, gas\u0027;"
    },
    {
      "cell_type": "code",
      "execution_count": 98,
      "metadata": {
        "autoscroll": "auto"
      },
      "outputs": [],
      "source": "%mysql\nSELECT COUNT(*) AS cantidad_hogares_con_medidor_agua\nFROM `encuesta_hogar` AS hogar\nJOIN `mydb`.`vi101` AS vi101 ON hogar.`vi101` \u003d vi101.`id101`\nWHERE vi101.`Descripcion` \u003d \u0027Sí\u0027;"
    },
    {
      "cell_type": "code",
      "execution_count": 99,
      "metadata": {
        "autoscroll": "auto"
      },
      "outputs": [],
      "source": "%mysql\nSELECT s1p2_respuesta.Descripcion AS genero,\n       COUNT(DISTINCT persona.id_hogar) AS cantidad_hogares\nFROM mydb.persona\nINNER JOIN mydb.s1p2_respuesta ON persona.s1p2 \u003d s1p2_respuesta.ids1p2\nGROUP BY genero;"
    },
    {
      "cell_type": "code",
      "execution_count": 100,
      "metadata": {
        "autoscroll": "auto"
      },
      "outputs": [],
      "source": "%mysql\nSELECT\n    a.Descripción AS Area,\n    h.estrato AS Estrato,\n    COUNT(CASE WHEN p.s1p2 \u003d 1 THEN 1 END) AS Cantidad_Hombres,\n    COUNT(CASE WHEN p.s1p2 \u003d 2 THEN 1 END) AS Cantidad_Mujeres,\n    COUNT(*) AS Total_Hogares\nFROM\n    hogar h\nINNER JOIN\n    persona p ON h.id_hogar \u003d p.id_hogar\nINNER JOIN\n    vivienda v ON h.id_vivienda \u003d v.id_vivienda\nINNER JOIN\n    area a ON v.area \u003d a.idarea\nGROUP BY\n    a.Descripción, h.estrato;"
    },
    {
      "cell_type": "code",
      "execution_count": 101,
      "metadata": {
        "autoscroll": "auto"
      },
      "outputs": [],
      "source": "%mysql\nSELECT\n    AVG(p.s1p3) AS Nivel_Educativo_Promedio,\n    AVG(CASE WHEN p.s1p2 \u003d 1 THEN p.s1p3 END) AS Nivel_Educativo_Promedio_Hombres,\n    AVG(CASE WHEN p.s1p2 \u003d 2 THEN p.s1p3 END) AS Nivel_Educativo_Promedio_Mujeres\nFROM\n    persona p\nINNER JOIN\n    hogar h ON p.id_hogar \u003d h.id_hogar;"
    },
    {
      "cell_type": "raw",
      "metadata": {
        "format": "text/plain"
      },
      "source": "%mysql\n"
    }
  ]
}